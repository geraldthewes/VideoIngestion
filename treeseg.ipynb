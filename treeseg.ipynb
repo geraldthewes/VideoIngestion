{
 "cells": [
  {
   "cell_type": "code",
   "execution_count": 1,
   "id": "17a205f0-7905-42c1-b5cf-7a1ea62376fc",
   "metadata": {},
   "outputs": [],
   "source": [
    "import os, sys\n",
    "\n",
    "import json\n",
    "\n",
    "import numpy as np\n",
    "\n",
    "from treeseg import TreeSeg\n"
   ]
  },
  {
   "cell_type": "code",
   "execution_count": 2,
   "id": "8b95f50f-7cc3-42fb-b618-443083fdeda2",
   "metadata": {},
   "outputs": [],
   "source": [
    "import nest_asyncio\n",
    "nest_asyncio.apply()"
   ]
  },
  {
   "cell_type": "code",
   "execution_count": 3,
   "id": "2443353e-875a-48b5-b383-dbfb3f66382c",
   "metadata": {},
   "outputs": [],
   "source": [
    "transcript = [\n",
    "    {'speaker': 'Alice', 'composite': 'Okay team, let\\'s kick off the weekly sync. First agenda item is the Q3 roadmap planning.'},\n",
    "    {'speaker': 'Bob', 'composite': 'Right. I\\'ve drafted the initial proposal based on the feedback from the product team.'},\n",
    "    {'speaker': 'Alice', 'composite': 'Great. Can you share the highlights? We need to finalize the key initiatives this week.'},\n",
    "    {'speaker': 'Bob', 'composite': 'Sure. The main pillars are customer acquisition, platform stability, and launching the new mobile feature.'},\n",
    "    {'speaker': 'Charlie', 'composite': 'On platform stability, I wanted to raise an issue regarding the recent deployment.'},\n",
    "    {'speaker': 'Charlie', 'composite': 'We saw a spike in error rates after the update went live Tuesday.'},\n",
    "    {'speaker': 'Alice', 'composite': 'Okay, thanks Charlie. Let\\'s make that the next discussion point after Bob finishes the roadmap overview.'},\n",
    "    {'speaker': 'Bob', 'composite': 'Okay, back to the roadmap. For customer acquisition, we\\'re planning two major campaigns...'}\n",
    "    # ... more utterances\n",
    "]"
   ]
  },
  {
   "cell_type": "code",
   "execution_count": 4,
   "id": "05567bbe-fc01-4fb1-82f9-967354262551",
   "metadata": {},
   "outputs": [],
   "source": [
    "import os\n",
    "EMBEDDINGS_HEADERS = {\n",
    "        \"Content-Type\": \"application/json\",\n",
    "        \"Authorization\": \"Bearer \" + os.getenv(\"OPENAI_API_KEY\",\"\"),\n",
    "    }\n"
   ]
  },
  {
   "cell_type": "code",
   "execution_count": 5,
   "id": "a28959f3-6070-4ac9-b114-a957896c2c8a",
   "metadata": {},
   "outputs": [],
   "source": [
    "config =   {\n",
    "        \"MIN_SEGMENT_SIZE\": 2,\n",
    "        \"LAMBDA_BALANCE\": 0,\n",
    "        \"UTTERANCE_EXPANSION_WIDTH\": 2,\n",
    "        \"EMBEDDINGS_HEADERS\": EMBEDDINGS_HEADERS,\n",
    "        \"EMBEDDINGS_TYPE\": \"ollama\",  # or \"openai\"\n",
    "        \"EMBEDDINGS_MODEL\": \"nomic-embed-text\",  # or \"text-embedding-ada-002\" for openai         \n",
    "        \"EMBEDDINGS_ENDPOINT\": os.getenv(\"OLLAMA_HOST\",\"\")   # \"https://api.openai.com/v1/embeddings\"\n",
    "    }\n"
   ]
  },
  {
   "cell_type": "code",
   "execution_count": 6,
   "id": "a16046d8-437c-42a9-b6ab-ad7e63a67a0b",
   "metadata": {
    "scrolled": true
   },
   "outputs": [
    {
     "name": "stdout",
     "output_type": "stream",
     "text": [
      "\u001b[2m2025-04-18 07:51:08\u001b[0m [\u001b[32m\u001b[1minfo     \u001b[0m] \u001b[1mProcess blocks embeddings     \u001b[0m\n",
      "\u001b[2m2025-04-18 07:51:08\u001b[0m [\u001b[32m\u001b[1minfo     \u001b[0m] \u001b[1mExtracting 8 embeddings in 1 batches.\u001b[0m\n",
      "\u001b[2m2025-04-18 07:51:09\u001b[0m [\u001b[32m\u001b[1minfo     \u001b[0m] \u001b[1mI have collected 8/8 embeddings.\u001b[0m\n"
     ]
    }
   ],
   "source": [
    "segmenter = TreeSeg(configs=config, entries=transcript)"
   ]
  },
  {
   "cell_type": "code",
   "execution_count": 7,
   "id": "7686aa7c-06c2-4397-9f07-33f9338fce5d",
   "metadata": {},
   "outputs": [
    {
     "name": "stdout",
     "output_type": "stream",
     "text": [
      "[{'speaker': 'Alice', 'composite': \"Okay team, let's kick off the weekly sync. First agenda item is the Q3 roadmap planning.\"}, {'speaker': 'Bob', 'composite': \"Right. I've drafted the initial proposal based on the feedback from the product team.\"}, {'speaker': 'Alice', 'composite': 'Great. Can you share the highlights? We need to finalize the key initiatives this week.'}, {'speaker': 'Bob', 'composite': 'Sure. The main pillars are customer acquisition, platform stability, and launching the new mobile feature.'}, {'speaker': 'Charlie', 'composite': 'On platform stability, I wanted to raise an issue regarding the recent deployment.'}, {'speaker': 'Charlie', 'composite': 'We saw a spike in error rates after the update went live Tuesday.'}, {'speaker': 'Alice', 'composite': \"Okay, thanks Charlie. Let's make that the next discussion point after Bob finishes the roadmap overview.\"}, {'speaker': 'Bob', 'composite': \"Okay, back to the roadmap. For customer acquisition, we're planning two major campaigns...\"}]\n"
     ]
    }
   ],
   "source": [
    "print(segmenter.entries)"
   ]
  },
  {
   "cell_type": "code",
   "execution_count": 8,
   "id": "84e9a77d-658f-4cf0-856f-ac6fe7be4d5a",
   "metadata": {},
   "outputs": [
    {
     "name": "stdout",
     "output_type": "stream",
     "text": [
      "\u001b[2m2025-04-18 07:51:17\u001b[0m [\u001b[32m\u001b[1minfo     \u001b[0m] \u001b[1mLoss reduction: 1.8871057994539147=>0.9288287069882675 | 103.17048614624179%\u001b[0m\n",
      "\u001b[2m2025-04-18 07:51:17\u001b[0m [\u001b[32m\u001b[1minfo     \u001b[0m] \u001b[1mLoss reduction: 0.9288287069882675=>0.48232831871665927 | 92.57187914232794%\u001b[0m\n"
     ]
    }
   ],
   "source": [
    "segments = segmenter.segment_meeting(3)"
   ]
  },
  {
   "cell_type": "code",
   "execution_count": null,
   "id": "2b1bdb2a-f7b4-49aa-a6fd-9e5922496c0a",
   "metadata": {
    "scrolled": true
   },
   "outputs": [],
   "source": [
    "print(segmenter.blocks)\n"
   ]
  },
  {
   "cell_type": "code",
   "execution_count": 9,
   "id": "3c4ccc91-f004-45b5-b588-056385b822c9",
   "metadata": {},
   "outputs": [
    {
     "name": "stdout",
     "output_type": "stream",
     "text": [
      "[0, 0, 0, 1, 0, 1, 0, 0]\n"
     ]
    }
   ],
   "source": [
    "print(segments)\n"
   ]
  },
  {
   "cell_type": "code",
   "execution_count": null,
   "id": "e55fb107-6c57-454a-b2f8-aa72ee1e8888",
   "metadata": {},
   "outputs": [],
   "source": []
  }
 ],
 "metadata": {
  "kernelspec": {
   "display_name": "Python (treeseg)",
   "language": "python",
   "name": "treeseg"
  },
  "language_info": {
   "codemirror_mode": {
    "name": "ipython",
    "version": 3
   },
   "file_extension": ".py",
   "mimetype": "text/x-python",
   "name": "python",
   "nbconvert_exporter": "python",
   "pygments_lexer": "ipython3",
   "version": "3.12.10"
  }
 },
 "nbformat": 4,
 "nbformat_minor": 5
}
