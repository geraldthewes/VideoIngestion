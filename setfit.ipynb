{
 "cells": [
  {
   "cell_type": "code",
   "execution_count": 14,
   "id": "e0b5cf92-f9f4-4962-b13c-e7ebf0b87985",
   "metadata": {},
   "outputs": [],
   "source": [
    "from setfit import SetFitModel\n"
   ]
  },
  {
   "cell_type": "code",
   "execution_count": 15,
   "id": "e40f3a16-473f-40ed-bc99-489a2a1bdb08",
   "metadata": {},
   "outputs": [
    {
     "name": "stderr",
     "output_type": "stream",
     "text": [
      "model_head.pkl not found on HuggingFace Hub, initialising classification head with random weights. You should TRAIN this model on a downstream task to use it for predictions and inference.\n"
     ]
    }
   ],
   "source": [
    "model = SetFitModel.from_pretrained(\"BAAI/bge-small-en-v1.5\")"
   ]
  },
  {
   "cell_type": "code",
   "execution_count": 16,
   "id": "8db9b393-3a21-4263-bc38-8e777c0e6287",
   "metadata": {},
   "outputs": [],
   "source": [
    "model.labels = [\"introduction\", \"non-introduction\"]"
   ]
  },
  {
   "cell_type": "code",
   "execution_count": 17,
   "id": "d49af89b-bfd6-45b9-b7f9-3e3b98ab02ad",
   "metadata": {},
   "outputs": [],
   "source": [
    "from setfit import TrainingArguments\n",
    "args = TrainingArguments(\n",
    "    batch_size=32,\n",
    "    num_epochs=10,\n",
    ")"
   ]
  },
  {
   "cell_type": "code",
   "execution_count": 22,
   "id": "5ce53897-3dae-4aaa-a499-e82d547459c9",
   "metadata": {},
   "outputs": [],
   "source": [
    "from datasets import Dataset\n",
    "train_dataset=[\n",
    "{\"text\":\"So everyone, my name is Yu-hoo and I'm from Chinese-American Corporation and Caliphets\",\"label\":\"introduction\"},\n",
    "{\"text\":'So the The first one question is, can you tell us about yourself and why you are running or re-rocking for this position?',\"label\":\"non-introduction\"},\n",
    "{\"text\":'We can go The first one',\"label\":\"non-introduction\"},\n",
    "{\"text\": \"I'm running to bring A new voice, A unique perspective and ensure we move forward with care,\",\"label\":\"non-introduction\"},\n",
    "{\"text\":\"Hi I'm Patrick Mayor.\", \"label\":\"introduction\"},\n",
    "{\"text\":\"I'm Joe Patta.\",\"label\":\"introduction\"},\n",
    "{\"text\":'who has arrived, take the seat here with us?',\"label\":\"non-introduction\"},\n",
    "{\"text\":'The The first one one has broken ground in the next three years or so.',\"label\":\"non-introduction\"},\n",
    "{\"text\":'Let me explain A little bit about by right subdivisions. Because of what is coming to town', \"label\":\"non-introduction\"},\n",
    "{\"text\":'until the the citizen brought forward the article and this campaign started bringing this issue',\"label\":\"non-introduction\"},\n",
    "{\"text\":\"We'll start with Patrick on my right.\",\"label\":\"non-introduction\"},\n",
    "{\"text\":'And I started the debate team at Lexington High School',\"label\":\"non-introduction\"},\n",
    "{\"text\":'Okay, I want to start by thanking Ivey Klx and Lyceum for organizing this and giving us the opportunity.',\"label\":\"non-introduction\"},\n",
    "{\"text\":'Well, hello.',\"label\":\"non-introduction\"},\n",
    "{\"text\":\"Hi I'm Meg Muckenhout, here representing the Lexington Lyceum advocates.\",\"label\":\"introduction\"},\n",
    "{\"text\":'Civil discourse, so glad to see everyone here,', \"label\":\"non-introduction\"},\n",
    "{\"text\":'So Now The first one question, though,', \"label\":\"non-introduction\"},\n",
    "{\"text\":\"Hello, I'm Tina Mcbride and let me know if I'm not\",\"label\":\"introduction\"},\n",
    "{\"text\":\"Hi I'm Tom Tom scheibel\",\"label\":\"introduction\"},\n",
    "{\"text\":'We will begin with Tom',\"label\":\"non-introduction\"},\n",
    "{\"text\":\"Hello, my name is Sarah Carter, and I'm running for the two-year school committee position.\",\"label\":\"introduction\"},\n",
    "{\"text\":'I will be putting all children The first one will be one of the guiding principles for any work that I do.',\"label\":\"non-introduction\"},\n",
    "{\"text\":'Hi my name is Lana Penisou.',\"label\":\"introduction\"},\n",
    "{\"text\":'We will start to marry, move on to Eileen then Lana and Sarah',\"label\":\"non-introduction\"},\n",
    "{\"text\":'work addict and teach children to work independently and take on new challenges.',\"label\":\"non-introduction\"},\n",
    "{\"text\":'We will start with Eileen then move on to Dana then Sarah and then Larry',\"label\":\"non-introduction\"},\n",
    "{\"text\":'The new literacy programs was instituted about',\"label\":\"non-introduction\"},\n",
    "{\"text\":'That we talk about The new literacy program every school committee',\"label\":\"non-introduction\"},\n",
    "{\"text\":'coming to the schools and be prepared for that.', \"label\":\"non-introduction\"},\n",
    "{\"text\":\"come The first one And, you know, in A lot of ways, it's unfortunate when we talk about students\",\"label\":\"non-introduction\"},\n",
    "{\"text\":'You want to start with me again?',\"label\":\"non-introduction\"},\n",
    "{\"text\":'What makes me different? Why you should vote for me?',\"label\":\"non-introduction\"},\n",
    "{\"text\":'I want to start The first one by say, one, I consider A excellent education to include more than just math and science engineering.',\"label\":\"non-introduction\"},\n",
    "{\"text\":'My name is Tamita Mindyanya.', \"label\":\"introduction\"},\n",
    "{\"text\":'We could start with Joe Mary Engel in that order.',\"label\":\"non-introduction\"},\n",
    "{\"text\":'Do you want to start by the microphone?',\"label\":\"non-introduction\"},\n",
    "{\"text\":'So we can start.',\"label\":\"non-introduction\"},\n",
    "{\"text\":'The basically, the condominiums are going to provide A The first one rung on the ownership ladder for people coming into Lexington',\"label\":\"non-introduction\"},\n",
    "{\"text\":'Hello, you know,',\"label\":\"non-introduction\"}\n",
    "]\n",
    "# Convert the list of dictionaries to a Hugging Face Dataset\n",
    "train_dataset = Dataset.from_list(train_dataset)"
   ]
  },
  {
   "cell_type": "code",
   "execution_count": 23,
   "id": "2af44b53-1232-4d5c-a14a-69f15ee30b13",
   "metadata": {},
   "outputs": [
    {
     "name": "stderr",
     "output_type": "stream",
     "text": [
      "/home/gerald/miniconda3/envs/video-ingestion/lib/python3.12/site-packages/datasets/utils/_dill.py:385: DeprecationWarning: co_lnotab is deprecated, use co_lines instead.\n",
      "  obj.co_lnotab,  # for < python 3.10 [not counted in args]\n"
     ]
    },
    {
     "data": {
      "application/vnd.jupyter.widget-view+json": {
       "model_id": "2139bc8efa2e44778e52793fe8dc98a8",
       "version_major": 2,
       "version_minor": 0
      },
      "text/plain": [
       "Map:   0%|          | 0/39 [00:00<?, ? examples/s]"
      ]
     },
     "metadata": {},
     "output_type": "display_data"
    }
   ],
   "source": [
    "from setfit import Trainer\n",
    "\n",
    "trainer = Trainer(\n",
    "    model=model,\n",
    "    args=args,\n",
    "    train_dataset=train_dataset,\n",
    ")"
   ]
  },
  {
   "cell_type": "code",
   "execution_count": 29,
   "id": "38b75826-6022-48c5-b93d-52de9499bfaa",
   "metadata": {},
   "outputs": [
    {
     "name": "stderr",
     "output_type": "stream",
     "text": [
      "***** Running training *****\n",
      "  Num unique pairs = 1020\n",
      "  Batch size = 32\n",
      "  Num epochs = 10\n"
     ]
    },
    {
     "data": {
      "text/html": [
       "\n",
       "    <div>\n",
       "      \n",
       "      <progress value='320' max='320' style='width:300px; height:20px; vertical-align: middle;'></progress>\n",
       "      [320/320 00:20, Epoch 10/10]\n",
       "    </div>\n",
       "    <table border=\"1\" class=\"dataframe\">\n",
       "  <thead>\n",
       " <tr style=\"text-align: left;\">\n",
       "      <th>Step</th>\n",
       "      <th>Training Loss</th>\n",
       "    </tr>\n",
       "  </thead>\n",
       "  <tbody>\n",
       "    <tr>\n",
       "      <td>1</td>\n",
       "      <td>0.223300</td>\n",
       "    </tr>\n",
       "    <tr>\n",
       "      <td>50</td>\n",
       "      <td>0.126300</td>\n",
       "    </tr>\n",
       "    <tr>\n",
       "      <td>100</td>\n",
       "      <td>0.006300</td>\n",
       "    </tr>\n",
       "    <tr>\n",
       "      <td>150</td>\n",
       "      <td>0.002500</td>\n",
       "    </tr>\n",
       "    <tr>\n",
       "      <td>200</td>\n",
       "      <td>0.001900</td>\n",
       "    </tr>\n",
       "    <tr>\n",
       "      <td>250</td>\n",
       "      <td>0.001600</td>\n",
       "    </tr>\n",
       "    <tr>\n",
       "      <td>300</td>\n",
       "      <td>0.001500</td>\n",
       "    </tr>\n",
       "  </tbody>\n",
       "</table><p>"
      ],
      "text/plain": [
       "<IPython.core.display.HTML object>"
      ]
     },
     "metadata": {},
     "output_type": "display_data"
    }
   ],
   "source": [
    "trainer.train()"
   ]
  },
  {
   "cell_type": "code",
   "execution_count": 30,
   "id": "3b19fd5d-c048-4975-92db-046ffcfba0ae",
   "metadata": {},
   "outputs": [],
   "source": [
    "model.save_pretrained(\"setfit-bge-small-v1.5-sst2-8-shot-introduction\")"
   ]
  },
  {
   "cell_type": "code",
   "execution_count": 31,
   "id": "8da59156-df1d-4f0a-ab77-5f8067f04c05",
   "metadata": {},
   "outputs": [],
   "source": [
    "imodel = SetFitModel.from_pretrained(\"setfit-bge-small-v1.5-sst2-8-shot-introduction\") "
   ]
  },
  {
   "cell_type": "code",
   "execution_count": 33,
   "id": "ee0e7720-78f4-4b6e-963f-0b8c270e4331",
   "metadata": {},
   "outputs": [
    {
     "data": {
      "text/plain": [
       "array(['introduction', 'non-introduction', 'non-introduction',\n",
       "       'non-introduction'], dtype='<U16')"
      ]
     },
     "execution_count": 33,
     "metadata": {},
     "output_type": "execute_result"
    }
   ],
   "source": [
    "preds = imodel.predict([\n",
    "    \"My name is James Bond\",\n",
    "    \"Klingon opera is the best\",\n",
    "    \"Peter it's your turn to speak.\",\n",
    "    \"Cows are not predators\"\n",
    "])\n",
    "preds"
   ]
  },
  {
   "cell_type": "code",
   "execution_count": null,
   "id": "1a2d1409-fd3a-4bf7-a4e6-24e825a5a941",
   "metadata": {},
   "outputs": [],
   "source": []
  }
 ],
 "metadata": {
  "kernelspec": {
   "display_name": "Python (video-ingestion)",
   "language": "python",
   "name": "video-ingestion"
  },
  "language_info": {
   "codemirror_mode": {
    "name": "ipython",
    "version": 3
   },
   "file_extension": ".py",
   "mimetype": "text/x-python",
   "name": "python",
   "nbconvert_exporter": "python",
   "pygments_lexer": "ipython3",
   "version": "3.12.9"
  }
 },
 "nbformat": 4,
 "nbformat_minor": 5
}
